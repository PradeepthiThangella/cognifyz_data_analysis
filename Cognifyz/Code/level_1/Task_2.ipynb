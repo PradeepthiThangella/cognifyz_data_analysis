{
 "cells": [
  {
   "cell_type": "markdown",
   "metadata": {},
   "source": [
    "\n",
    "# Task_2 : City Analysis"
   ]
  },
  {
   "cell_type": "markdown",
   "metadata": {},
   "source": [
    "### Identify the city with the highest number of restaurants in the dataset"
   ]
  },
  {
   "cell_type": "code",
   "execution_count": null,
   "metadata": {},
   "outputs": [],
   "source": [
    "import pandas as pd\n",
    "df = pd.read_csv(\"Dataset.csv\")\n",
    "cities = df[\"City\"]"
   ]
  },
  {
   "cell_type": "code",
   "execution_count": 33,
   "metadata": {},
   "outputs": [
    {
     "name": "stdout",
     "output_type": "stream",
     "text": [
      "0         Makati City\n",
      "1         Makati City\n",
      "2    Mandaluyong City\n",
      "3    Mandaluyong City\n",
      "4    Mandaluyong City\n",
      "Name: City, dtype: object\n"
     ]
    }
   ],
   "source": [
    "print(cities.head())"
   ]
  },
  {
   "cell_type": "code",
   "execution_count": 34,
   "metadata": {},
   "outputs": [
    {
     "name": "stdout",
     "output_type": "stream",
     "text": [
      "New Delhi    5473\n",
      "Name: City, dtype: int64\n"
     ]
    }
   ],
   "source": [
    "all_cities = cities.value_counts()\n",
    "print(all_cities.head(1))"
   ]
  },
  {
   "cell_type": "markdown",
   "metadata": {},
   "source": [
    "### Calculate the average rating for restaurants in each city"
   ]
  },
  {
   "cell_type": "code",
   "execution_count": 35,
   "metadata": {},
   "outputs": [
    {
     "name": "stdout",
     "output_type": "stream",
     "text": [
      "141\n"
     ]
    }
   ],
   "source": [
    "print(len(all_cities))"
   ]
  },
  {
   "cell_type": "code",
   "execution_count": 40,
   "metadata": {},
   "outputs": [],
   "source": [
    "df[\"Aggregate rating\"] = pd.to_numeric(df[\"Aggregate rating\"], errors=\"coerce\")"
   ]
  },
  {
   "cell_type": "code",
   "execution_count": 41,
   "metadata": {},
   "outputs": [
    {
     "name": "stdout",
     "output_type": "stream",
     "text": [
      "City\n",
      "Abu Dhabi          0.0\n",
      "Agra               0.0\n",
      "Ahmedabad          0.0\n",
      "Albany             0.0\n",
      "Allahabad          0.0\n",
      "                  ... \n",
      "Weirton            0.0\n",
      "Wellington City    0.0\n",
      "Winchester Bay     0.0\n",
      "Yorkton            0.0\n",
      "��stanbul          0.0\n",
      "Name: Aggregate rating, Length: 141, dtype: float64\n"
     ]
    }
   ],
   "source": [
    "city_avg_rating = df.groupby(\"City\")[\"Aggregate rating\"].mean()\n",
    "print(city_avg_rating)"
   ]
  }
 ],
 "metadata": {
  "kernelspec": {
   "display_name": "Python 3",
   "language": "python",
   "name": "python3"
  },
  "language_info": {
   "codemirror_mode": {
    "name": "ipython",
    "version": 3
   },
   "file_extension": ".py",
   "mimetype": "text/x-python",
   "name": "python",
   "nbconvert_exporter": "python",
   "pygments_lexer": "ipython3",
   "version": "3.7.9"
  }
 },
 "nbformat": 4,
 "nbformat_minor": 2
}
