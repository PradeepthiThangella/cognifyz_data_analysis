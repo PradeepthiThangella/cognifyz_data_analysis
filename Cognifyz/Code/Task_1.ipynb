{
 "cells": [
  {
   "cell_type": "markdown",
   "metadata": {},
   "source": [
    "Determine the top three most common cuisines in the dataset."
   ]
  },
  {
   "cell_type": "code",
   "execution_count": 35,
   "metadata": {},
   "outputs": [],
   "source": [
    "import pandas as pd  #importing pandas \n",
    "df = pd.read_csv(\"Dataset.csv\") #determining dataframes by using data from csv\n",
    "cuisines = df[\"Cuisines\"]  #retrieving cuisines column from whole dataframe\n",
    "\n"
   ]
  },
  {
   "cell_type": "code",
   "execution_count": 36,
   "metadata": {},
   "outputs": [
    {
     "name": "stdout",
     "output_type": "stream",
     "text": [
      "0          French, Japanese, Desserts\n",
      "1                            Japanese\n",
      "2    Seafood, Asian, Filipino, Indian\n",
      "3                     Japanese, Sushi\n",
      "4                    Japanese, Korean\n",
      "Name: Cuisines, dtype: object\n"
     ]
    }
   ],
   "source": [
    "print(cuisines.head())  #printing firs five cuisines"
   ]
  },
  {
   "cell_type": "code",
   "execution_count": 37,
   "metadata": {},
   "outputs": [
    {
     "name": "stdout",
     "output_type": "stream",
     "text": [
      "0             [French, Japanese, Desserts]\n",
      "1                               [Japanese]\n",
      "2       [Seafood, Asian, Filipino, Indian]\n",
      "3                        [Japanese, Sushi]\n",
      "4                       [Japanese, Korean]\n",
      "                       ...                \n",
      "9546                             [Turkish]\n",
      "9547     [World Cuisine, Patisserie, Cafe]\n",
      "9548              [Italian, World Cuisine]\n",
      "9549                     [Restaurant Cafe]\n",
      "9550                                [Cafe]\n",
      "Name: Cuisines, Length: 9551, dtype: object\n"
     ]
    }
   ],
   "source": [
    "all_cuisines = cuisines.str.split(\", \")  #spliting all cuisines with \",\"\n",
    "print(all_cuisines) #printing all cuisines"
   ]
  },
  {
   "cell_type": "code",
   "execution_count": 38,
   "metadata": {},
   "outputs": [
    {
     "name": "stdout",
     "output_type": "stream",
     "text": [
      "North Indian         3960\n",
      "Chinese              2735\n",
      "Fast Food            1986\n",
      "Mughlai               995\n",
      "Italian               764\n",
      "                     ... \n",
      "Irish                   1\n",
      "Soul Food               1\n",
      "Cuisine Varies          1\n",
      "Fish and Chips          1\n",
      "Gourmet Fast Food       1\n",
      "Name: Cuisines, Length: 145, dtype: int64\n"
     ]
    }
   ],
   "source": [
    "cuisines_count = all_cuisines.explode().value_counts() # counting the cuisines repeatation by spliting them\n",
    "print(cuisines_count)   #printing the count of cuisines"
   ]
  },
  {
   "cell_type": "code",
   "execution_count": 39,
   "metadata": {},
   "outputs": [
    {
     "name": "stdout",
     "output_type": "stream",
     "text": [
      "North Indian    3960\n",
      "Chinese         2735\n",
      "Fast Food       1986\n",
      "Name: Cuisines, dtype: int64\n"
     ]
    }
   ],
   "source": [
    "print(cuisines_count.head(3)) #printing the top 3 cuisines"
   ]
  },
  {
   "cell_type": "markdown",
   "metadata": {},
   "source": [
    "Calculate the percentage of restaurants that serve each of the top cuisines."
   ]
  },
  {
   "cell_type": "code",
   "execution_count": null,
   "metadata": {},
   "outputs": [
    {
     "name": "stdout",
     "output_type": "stream",
     "text": [
      "9551\n"
     ]
    }
   ],
   "source": [
    "\n",
    "total_restaurants = len(df) # total count of restaurants \n",
    "print(total_restaurants) #printing resturants count"
   ]
  },
  {
   "cell_type": "code",
   "execution_count": null,
   "metadata": {},
   "outputs": [
    {
     "name": "stdout",
     "output_type": "stream",
     "text": [
      "North Indian         41.461627\n",
      "Chinese              28.635745\n",
      "Fast Food            20.793634\n",
      "Mughlai              10.417757\n",
      "Italian               7.999162\n",
      "                       ...    \n",
      "Irish                 0.010470\n",
      "Soul Food             0.010470\n",
      "Cuisine Varies        0.010470\n",
      "Fish and Chips        0.010470\n",
      "Gourmet Fast Food     0.010470\n",
      "Name: Cuisines, Length: 145, dtype: float64\n"
     ]
    }
   ],
   "source": [
    "cuisines_percentage = (cuisines_count/total_restaurants)*100 #calculating the percentage of all cuisines with respect to total restaurants\n",
    "print(cuisines_percentage) #printing cuisines percentage"
   ]
  },
  {
   "cell_type": "code",
   "execution_count": null,
   "metadata": {},
   "outputs": [
    {
     "name": "stdout",
     "output_type": "stream",
     "text": [
      "North Indian    41.461627\n",
      "Chinese         28.635745\n",
      "Fast Food       20.793634\n",
      "Mughlai         10.417757\n",
      "Italian          7.999162\n",
      "Bakery           7.800230\n",
      "Continental      7.705999\n",
      "Cafe             7.360486\n",
      "Desserts         6.836980\n",
      "South Indian     6.658989\n",
      "Street Food      5.884201\n",
      "American         4.083342\n",
      "Pizza            3.989111\n",
      "Name: Cuisines, dtype: float64\n"
     ]
    }
   ],
   "source": [
    "print(cuisines_percentage.head(13)) #printing top 13 cuisines percentage "
   ]
  },
  {
   "cell_type": "code",
   "execution_count": null,
   "metadata": {},
   "outputs": [],
   "source": []
  }
 ],
 "metadata": {
  "kernelspec": {
   "display_name": "Python 3",
   "language": "python",
   "name": "python3"
  },
  "language_info": {
   "codemirror_mode": {
    "name": "ipython",
    "version": 3
   },
   "file_extension": ".py",
   "mimetype": "text/x-python",
   "name": "python",
   "nbconvert_exporter": "python",
   "pygments_lexer": "ipython3",
   "version": "3.7.9"
  }
 },
 "nbformat": 4,
 "nbformat_minor": 2
}
